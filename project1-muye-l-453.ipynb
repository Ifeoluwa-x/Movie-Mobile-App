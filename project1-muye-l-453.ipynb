{
 "cells": [
  {
   "cell_type": "code",
   "execution_count": 1,
   "id": "17f9a201",
   "metadata": {
    "_cell_guid": "b1076dfc-b9ad-4769-8c92-a6c4dae69d19",
    "_uuid": "8f2839f25d086af736a60e9eeb907d3b93b6e0e5",
    "execution": {
     "iopub.execute_input": "2025-07-22T20:58:12.186150Z",
     "iopub.status.busy": "2025-07-22T20:58:12.185791Z",
     "iopub.status.idle": "2025-07-22T20:58:16.095021Z",
     "shell.execute_reply": "2025-07-22T20:58:16.093870Z"
    },
    "papermill": {
     "duration": 3.913993,
     "end_time": "2025-07-22T20:58:16.096587",
     "exception": false,
     "start_time": "2025-07-22T20:58:12.182594",
     "status": "completed"
    },
    "tags": []
   },
   "outputs": [
    {
     "name": "stderr",
     "output_type": "stream",
     "text": [
      "/tmp/ipykernel_13/2292362660.py:10: DeprecationWarning: load_dataset is deprecated and will be removed in a future version.\n",
      "  df = kagglehub.load_dataset(\n"
     ]
    },
    {
     "name": "stdout",
     "output_type": "stream",
     "text": [
      "First 5 records:    idLobbyGame  idPlayer  idRoom  qtKill  qtAssist  qtDeath  qtHs  \\\n",
      "0            1         1       1       5         1       16     2   \n",
      "1            2         1       2      24         3       18     6   \n",
      "2            3         2       3       6         4       23     2   \n",
      "3            3       391   27508      10         5       20     4   \n",
      "4            4         2       4       8         4       26     6   \n",
      "\n",
      "   qtBombeDefuse  qtBombePlant  qtTk  ...  qtFlashAssist  qtHitHeadshot  \\\n",
      "0              0             0   0.0  ...            0.0            3.0   \n",
      "1              0             4   0.0  ...            0.0            7.0   \n",
      "2              0             1   0.0  ...            0.0            3.0   \n",
      "3              1             0   0.0  ...            0.0            6.0   \n",
      "4              0             2   0.0  ...            2.0            8.0   \n",
      "\n",
      "   qtHitChest  qtHitStomach  qtHitLeftAtm  qtHitRightArm  qtHitLeftLeg  \\\n",
      "0        13.0           4.0           2.0            2.0           1.0   \n",
      "1        26.0          14.0           2.0            1.0           1.0   \n",
      "2        15.0           8.0           1.0            2.0           0.0   \n",
      "3        27.0          10.0           1.0            7.0           6.0   \n",
      "4        19.0          12.0           2.0            3.0           2.0   \n",
      "\n",
      "   qtHitRightLeg  flWinner          dtCreatedAt  \n",
      "0            0.0         0  2022-01-21 19:45:44  \n",
      "1            3.0         1  2022-02-04 02:09:47  \n",
      "2            2.0         0  2021-09-18 18:07:43  \n",
      "3            6.0         1  2021-09-18 18:07:43  \n",
      "4            5.0         0  2021-09-27 00:17:45  \n",
      "\n",
      "[5 rows x 38 columns]\n"
     ]
    }
   ],
   "source": [
    "# Install dependencies as needed:\n",
    "# pip install kagglehub[pandas-datasets]\n",
    "import kagglehub\n",
    "from kagglehub import KaggleDatasetAdapter\n",
    "\n",
    "# Set the path to the file you'd like to load\n",
    "file_path = 'tb_lobby_stats_player.csv'\n",
    "\n",
    "# Load the latest version\n",
    "df = kagglehub.load_dataset(\n",
    "  KaggleDatasetAdapter.PANDAS,\n",
    "  \"gamersclub/brazilian-csgo-plataform-dataset-by-gamers-club\",\n",
    "  file_path,\n",
    "  # Provide any additional arguments like \n",
    "  # sql_query or pandas_kwargs. See the \n",
    "  # documenation for more information:\n",
    "  # https://github.com/Kaggle/kagglehub/blob/main/README.md#kaggledatasetadapterpandas\n",
    ")\n",
    "\n",
    "print(\"First 5 records:\", df.head())\n",
    "\n"
   ]
  }
 ],
 "metadata": {
  "kaggle": {
   "accelerator": "none",
   "dataSources": [
    {
     "databundleVersionId": 3221537,
     "datasetId": 1928170,
     "isSourceIdPinned": false,
     "sourceId": 3172084,
     "sourceType": "datasetVersion"
    }
   ],
   "isGpuEnabled": false,
   "isInternetEnabled": false,
   "language": "python",
   "sourceType": "notebook"
  },
  "kernelspec": {
   "display_name": "Python 3",
   "language": "python",
   "name": "python3"
  },
  "language_info": {
   "codemirror_mode": {
    "name": "ipython",
    "version": 3
   },
   "file_extension": ".py",
   "mimetype": "text/x-python",
   "name": "python",
   "nbconvert_exporter": "python",
   "pygments_lexer": "ipython3",
   "version": "3.11.13"
  },
  "papermill": {
   "default_parameters": {},
   "duration": 9.662797,
   "end_time": "2025-07-22T20:58:16.718106",
   "environment_variables": {},
   "exception": null,
   "input_path": "__notebook__.ipynb",
   "output_path": "__notebook__.ipynb",
   "parameters": {},
   "start_time": "2025-07-22T20:58:07.055309",
   "version": "2.6.0"
  }
 },
 "nbformat": 4,
 "nbformat_minor": 5
}
