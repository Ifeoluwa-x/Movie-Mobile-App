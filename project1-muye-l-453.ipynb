{
 "cells": [
  {
   "cell_type": "code",
   "execution_count": 1,
   "id": "47c78580",
   "metadata": {
    "_cell_guid": "b1076dfc-b9ad-4769-8c92-a6c4dae69d19",
    "_uuid": "8f2839f25d086af736a60e9eeb907d3b93b6e0e5",
    "execution": {
     "iopub.execute_input": "2025-07-22T20:59:49.368907Z",
     "iopub.status.busy": "2025-07-22T20:59:49.368585Z",
     "iopub.status.idle": "2025-07-22T20:59:52.041834Z",
     "shell.execute_reply": "2025-07-22T20:59:52.040573Z"
    },
    "papermill": {
     "duration": 2.678231,
     "end_time": "2025-07-22T20:59:52.043635",
     "exception": false,
     "start_time": "2025-07-22T20:59:49.365404",
     "status": "completed"
    },
    "tags": []
   },
   "outputs": [
    {
     "name": "stderr",
     "output_type": "stream",
     "text": [
      "/tmp/ipykernel_13/292022462.py:10: DeprecationWarning: load_dataset is deprecated and will be removed in a future version.\n",
      "  df = kagglehub.load_dataset(\n"
     ]
    },
    {
     "name": "stdout",
     "output_type": "stream",
     "text": [
      "First 5 records:    Unnamed: 0    name  country                            teams  total_maps  \\\n",
      "0           0   ZywOo   France              ['Vitality', 'aAa']         854   \n",
      "1           1  s1mple  Ukraine    ['Natus Vincere', 'FlipSid3']        1429   \n",
      "2           2    deko   Russia                         ['1WIN']         190   \n",
      "3           3  saffee   Brazil                         ['paiN']         202   \n",
      "4           4   sh1ro   Russia  ['Gambit', 'Gambit Youngsters']         744   \n",
      "\n",
      "   total_rounds  kd_diff    kd  rating  \n",
      "0         22399     5248  1.38    1.28  \n",
      "1         37717     8070  1.33    1.25  \n",
      "2          5096     1250  1.42    1.24  \n",
      "3          5383     1211  1.37    1.24  \n",
      "4         19780     4593  1.43    1.22  \n"
     ]
    }
   ],
   "source": [
    "# Install dependencies as needed:\n",
    "# pip install kagglehub[pandas-datasets]\n",
    "import kagglehub\n",
    "from kagglehub import KaggleDatasetAdapter\n",
    "\n",
    "# Set the path to the file you'd like to load\n",
    "file_path = 'player_stats.csv'\n",
    "\n",
    "# Load the latest version\n",
    "df = kagglehub.load_dataset(\n",
    "  KaggleDatasetAdapter.PANDAS,\n",
    "  \"patrasaurabh/csgo-player-and-team-stats\",\n",
    "  file_path,\n",
    "  # Provide any additional arguments like \n",
    "  # sql_query or pandas_kwargs. See the \n",
    "  # documenation for more information:\n",
    "  # https://github.com/Kaggle/kagglehub/blob/main/README.md#kaggledatasetadapterpandas\n",
    ")\n",
    "\n",
    "print(\"First 5 records:\", df.head())\n",
    "\n"
   ]
  }
 ],
 "metadata": {
  "kaggle": {
   "accelerator": "none",
   "dataSources": [
    {
     "databundleVersionId": 3221537,
     "datasetId": 1928170,
     "isSourceIdPinned": false,
     "sourceId": 3172084,
     "sourceType": "datasetVersion"
    },
    {
     "databundleVersionId": 2635059,
     "datasetId": 1574501,
     "isSourceIdPinned": false,
     "sourceId": 2591666,
     "sourceType": "datasetVersion"
    }
   ],
   "isGpuEnabled": false,
   "isInternetEnabled": false,
   "language": "python",
   "sourceType": "notebook"
  },
  "kernelspec": {
   "display_name": "Python 3",
   "language": "python",
   "name": "python3"
  },
  "language_info": {
   "codemirror_mode": {
    "name": "ipython",
    "version": 3
   },
   "file_extension": ".py",
   "mimetype": "text/x-python",
   "name": "python",
   "nbconvert_exporter": "python",
   "pygments_lexer": "ipython3",
   "version": "3.11.13"
  },
  "papermill": {
   "default_parameters": {},
   "duration": 8.306074,
   "end_time": "2025-07-22T20:59:52.666074",
   "environment_variables": {},
   "exception": null,
   "input_path": "__notebook__.ipynb",
   "output_path": "__notebook__.ipynb",
   "parameters": {},
   "start_time": "2025-07-22T20:59:44.360000",
   "version": "2.6.0"
  }
 },
 "nbformat": 4,
 "nbformat_minor": 5
}
